{
 "cells": [
  {
   "cell_type": "code",
   "execution_count": 1,
   "metadata": {},
   "outputs": [],
   "source": [
    "import numpy as np\n",
    "import pandas as pd\n",
    "import matplotlib.pyplot as plt"
   ]
  },
  {
   "cell_type": "code",
   "execution_count": 3,
   "metadata": {},
   "outputs": [],
   "source": [
    "reviews = np.load('array_processed.npy')"
   ]
  },
  {
   "cell_type": "code",
   "execution_count": 4,
   "metadata": {},
   "outputs": [
    {
     "data": {
      "text/plain": [
       "'wonderful phone range 845 snapdragon late go sexy phone'"
      ]
     },
     "execution_count": 4,
     "metadata": {},
     "output_type": "execute_result"
    }
   ],
   "source": [
    "reviews[0]"
   ]
  },
  {
   "cell_type": "code",
   "execution_count": 5,
   "metadata": {},
   "outputs": [],
   "source": [
    "#defined features for classification\n",
    "features = ['battery', 'ram','dislpay', 'camera', 'storage']\n",
    "\n",
    "#to count number of occurences of the features\n",
    "number = {'battery': 0,\n",
    "             'ram': 0 ,\n",
    "             'display' : 0,\n",
    "             'camera' : 0,\n",
    "             'storage' : 0\n",
    "             }\n",
    "\n"
   ]
  },
  {
   "cell_type": "code",
   "execution_count": 6,
   "metadata": {},
   "outputs": [],
   "source": [
    "#to store reviews seperated wrt features\n",
    "review_classified = {'battery': [],\n",
    "             'ram': [] ,\n",
    "             'display' : [],\n",
    "             'camera' : [],\n",
    "             'storage' : []\n",
    "             }"
   ]
  },
  {
   "cell_type": "code",
   "execution_count": 7,
   "metadata": {},
   "outputs": [],
   "source": [
    "for line in reviews:\n",
    "    for feature in list(number.keys()):\n",
    "        number[feature] += line.count(feature)\n",
    "        if feature in line:\n",
    "            review_classified[feature].append(line)\n",
    "    "
   ]
  },
  {
   "cell_type": "code",
   "execution_count": 8,
   "metadata": {},
   "outputs": [
    {
     "name": "stdout",
     "output_type": "stream",
     "text": [
      "battery  -  2679\n",
      "ram  -  464\n",
      "display  -  1242\n",
      "camera  -  3376\n",
      "storage  -  120\n"
     ]
    }
   ],
   "source": [
    "for feature in list(review_classified.keys()):\n",
    "    print(feature ,\" - \",len(review_classified[feature]))"
   ]
  },
  {
   "cell_type": "code",
   "execution_count": null,
   "metadata": {},
   "outputs": [],
   "source": []
  },
  {
   "cell_type": "code",
   "execution_count": 9,
   "metadata": {},
   "outputs": [],
   "source": [
    "from textblob import TextBlob"
   ]
  },
  {
   "cell_type": "code",
   "execution_count": 10,
   "metadata": {},
   "outputs": [
    {
     "name": "stdout",
     "output_type": "stream",
     "text": [
      "\n",
      " expected replacement battery issue get back money though purchase 64 gb storage phone price control pricing keep change everyday get phone replace battery issue third replacement thank fully work properly\n",
      "\n",
      " -0.06000000000000001\n",
      "\n",
      " amazing pic n video...love phone .. nice n fast .. awesome pic great battery life .. real flagship phone\n",
      "\n",
      " 0.5666666666666668\n",
      "\n",
      " bit skeptical battery come 5000 mah cell believe give best battery performance snapdragon 845 godly\n",
      "\n",
      " 0.25\n",
      "\n",
      " order september 2019 package send oct 2018 year old screen bleed issue battery backup pathetic amazon ensure customer get defect free product official authentic seller totally dissatisfied buy defective\n",
      "\n",
      " 0.0\n",
      "\n",
      " product best value money compare phone purchase far battery excellent lasts almost full day even heavy user processor speed great phonen't become warm even extend use quick charge extremely effective battery get charge quickly even speaker picture quality excellent ring tone library attractive also take get use phone command\n",
      "\n",
      " 0.5597222222222221\n"
     ]
    }
   ],
   "source": [
    "for i in range(5):\n",
    "    blob = TextBlob(review_classified['battery'][i])\n",
    "    print('\\n',blob)\n",
    "    print(\"\\n\",blob.sentiment[0])"
   ]
  },
  {
   "cell_type": "code",
   "execution_count": 11,
   "metadata": {},
   "outputs": [],
   "source": [
    "review_polarity = {'battery': [],\n",
    "             'ram': [] ,\n",
    "             'display' : [],\n",
    "             'camera' : [],\n",
    "             'storage' : []\n",
    "             }\n",
    "\n"
   ]
  },
  {
   "cell_type": "code",
   "execution_count": 12,
   "metadata": {},
   "outputs": [],
   "source": [
    "for feature in review_classified.keys():\n",
    "    positive = []\n",
    "    negative = []\n",
    "    for line in review_classified[feature]:\n",
    "        blob = TextBlob(line)\n",
    "        score = blob.sentiment[0]\n",
    "        if score > 0:\n",
    "            positive.append(line)\n",
    "        else:\n",
    "            negative.append(line)\n",
    "    \n",
    "    review_polarity[feature].append(positive)\n",
    "    review_polarity[feature].append(negative)"
   ]
  },
  {
   "cell_type": "code",
   "execution_count": 13,
   "metadata": {},
   "outputs": [
    {
     "name": "stdout",
     "output_type": "stream",
     "text": [
      "battery  -  2453 226\n",
      "ram  -  423 41\n",
      "display  -  1096 146\n",
      "camera  -  3211 165\n",
      "storage  -  104 16\n"
     ]
    }
   ],
   "source": [
    "for feature in review_classified.keys():\n",
    "    print(feature, \" - \", len(review_polarity[feature][0]),len(review_polarity[feature][1]))"
   ]
  },
  {
   "cell_type": "code",
   "execution_count": 14,
   "metadata": {},
   "outputs": [
    {
     "data": {
      "text/plain": [
       "<BarContainer object of 5 artists>"
      ]
     },
     "execution_count": 14,
     "metadata": {},
     "output_type": "execute_result"
    },
    {
     "data": {
      "image/png": "[encoded data removed]",
      "text/plain": [
       "<Figure size 432x288 with 1 Axes>"
      ]
     },
     "metadata": {
      "needs_background": "light"
     },
     "output_type": "display_data"
    }
   ],
   "source": [
    "plt.bar(review_polarity.keys(),len(review_polarity.values()))"
   ]
  },
  {
   "cell_type": "code",
   "execution_count": null,
   "metadata": {},
   "outputs": [],
   "source": []
  },
  {
   "cell_type": "code",
   "execution_count": 15,
   "metadata": {},
   "outputs": [
    {
     "data": {
      "image/png": "[encoded data removed]",
      "text/plain": [
       "<Figure size 1440x720 with 1 Axes>"
      ]
     },
     "metadata": {
      "needs_background": "light"
     },
     "output_type": "display_data"
    }
   ],
   "source": [
    "fig = plt.figure(figsize = (20,10))\n",
    "for feature in review_polarity.keys():\n",
    "    plt.bar(feature,len(review_polarity[feature][0]))\n",
    "    plt.bar(feature,len(review_polarity[feature][1]))\n",
    "plt.show()"
   ]
  },
  {
   "cell_type": "code",
   "execution_count": 16,
   "metadata": {},
   "outputs": [
    {
     "data": {
      "image/png": "[encoded data removed]",
      "text/plain": [
       "<Figure size 432x288 with 1 Axes>"
      ]
     },
     "metadata": {
      "needs_background": "light"
     },
     "output_type": "display_data"
    }
   ],
   "source": [
    "import matplotlib\n",
    "import matplotlib.pyplot as plt\n",
    "import numpy as np\n",
    "\n",
    "\n",
    "labels = ['G1', 'G2', 'G3', 'G4', 'G5']\n",
    "men_means = [2448, 424, 1094, 3204, 104]\n",
    "women_means = [231, 40, 148, 172, 16]\n",
    "\n",
    "x = np.arange(len(labels))  # the label locations\n",
    "width = 0.35  # the width of the bars\n",
    "\n",
    "fig, ax = plt.subplots()\n",
    "rects1 = ax.bar(x - width/2, men_means, width, label='positive')\n",
    "rects2 = ax.bar(x + width/2, women_means, width, label='negative')\n",
    "\n",
    "# Add some text for labels, title and custom x-axis tick labels, etc.\n",
    "ax.set_ylabel('Scores')\n",
    "ax.set_title('Scores by group and gender')\n",
    "ax.set_xticks(x)\n",
    "ax.set_xticklabels(labels)\n",
    "ax.legend()\n",
    "\n",
    "fig.tight_layout()\n",
    "\n",
    "plt.show()"
   ]
  },
  {
   "cell_type": "code",
   "execution_count": 17,
   "metadata": {},
   "outputs": [
    {
     "data": {
      "image/png": "[encoded data removed]",
      "text/plain": [
       "<Figure size 432x288 with 1 Axes>"
      ]
     },
     "metadata": {
      "needs_background": "light"
     },
     "output_type": "display_data"
    }
   ],
   "source": [
    "x = 5\n",
    "width = 0.35\n",
    "fig1, ax = plt.subplots()\n",
    "for feature in review_polarity.keys():\n",
    "    rects1 = ax.bar(x - width/2, len(review_polarity[feature][0]), width, label='positive')\n",
    "    rects2 = ax.bar(x + width/2, len(review_polarity[feature][1]), width, label='negative')\n",
    "ax.legend()\n",
    "plt.show()"
   ]
  },
  {
   "cell_type": "code",
   "execution_count": 18,
   "metadata": {},
   "outputs": [
    {
     "data": {
      "image/png": "[encoded data removed]",
      "text/plain": [
       "<Figure size 1440x720 with 1 Axes>"
      ]
     },
     "metadata": {
      "needs_background": "light"
     },
     "output_type": "display_data"
    }
   ],
   "source": [
    "import matplotlib\n",
    "import matplotlib.pyplot as plt\n",
    "import numpy as np\n",
    "\n",
    "\n",
    "labels = ['battery', 'ram', 'display', 'camera', 'storage']\n",
    "xp = []\n",
    "xn = []\n",
    "for feature in review_polarity.keys():\n",
    "    xp.append(len(review_polarity[feature][0]))\n",
    "    xn.append(len(review_polarity[feature][1]))\n",
    "\n",
    "x = np.arange(len(labels))  # the label locations\n",
    "width = 0.35  # the width of the bars\n",
    "\n",
    "fig = plt.figure(figsize = (20,10))\n",
    "ax = fig.subplots()\n",
    "rects1 = ax.bar(x - width/2, xp, width, label='positive')\n",
    "rects2 = ax.bar(x + width/2, xn, width, label='negative')\n",
    "\n",
    "# Add some text for labels, title and custom x-axis tick labels, etc.\n",
    "ax.set_ylabel('Count of reviews')\n",
    "ax.set_title('count by aspects')\n",
    "ax.set_xticks(x)\n",
    "ax.set_xticklabels(labels)\n",
    "ax.legend()\n",
    "\n",
    "for rect in rects1 + rects2:\n",
    "    height = rect.get_height()\n",
    "    plt.text(rect.get_x() + rect.get_width()/2.0, height, '%d' % int(height), ha='center', va='bottom')\n",
    "\n",
    "\n",
    "plt.savefig('figure.png')\n",
    "plt.show()\n"
   ]
  },
  {
   "cell_type": "code",
   "execution_count": 19,
   "metadata": {},
   "outputs": [],
   "source": [
    "list=[]\n",
    "def set_rating():\n",
    "    for i in review_polarity.keys():\n",
    "        a =len(review_polarity[i][0])\n",
    "        b= len( review_polarity[i][1])\n",
    "        x = (a)/(a+b)\n",
    "        x=x*5\n",
    "        list.append(x)\n",
    "        \n",
    "        \n",
    "    "
   ]
  },
  {
   "cell_type": "code",
   "execution_count": 21,
   "metadata": {},
   "outputs": [],
   "source": [
    "#print(len(review_polarity[i][0]))"
   ]
  },
  {
   "cell_type": "code",
   "execution_count": 22,
   "metadata": {},
   "outputs": [],
   "source": [
    "set_rating()"
   ]
  },
  {
   "cell_type": "code",
   "execution_count": 23,
   "metadata": {},
   "outputs": [
    {
     "data": {
      "text/plain": [
       "[4.578200821201941,\n",
       " 4.558189655172414,\n",
       " 4.412238325281804,\n",
       " 4.755627962085308,\n",
       " 4.333333333333334]"
      ]
     },
     "execution_count": 23,
     "metadata": {},
     "output_type": "execute_result"
    }
   ],
   "source": [
    "list"
   ]
  },
  {
   "cell_type": "code",
   "execution_count": 24,
   "metadata": {},
   "outputs": [],
   "source": [
    " list_new=[]\n",
    "def set_rating_2():\n",
    "    for feature in review_classified.keys():\n",
    "        x=0\n",
    "        for line in review_classified[feature]:\n",
    "            blob = TextBlob(line)\n",
    "            score = blob.sentiment[0] + 0.34\n",
    "            y=(score+1)*(5)/(2)\n",
    "            x=x+y\n",
    "        list_new.append(x/(len(review_classified[feature])))\n",
    "    \n",
    "            \n",
    "            \n",
    "        \n",
    "        "
   ]
  },
  {
   "cell_type": "code",
   "execution_count": 25,
   "metadata": {},
   "outputs": [],
   "source": [
    "set_rating_2()"
   ]
  },
  {
   "cell_type": "code",
   "execution_count": 26,
   "metadata": {
    "scrolled": true
   },
   "outputs": [
    {
     "data": {
      "text/plain": [
       "[4.253070034486803,\n",
       " 4.119521917040692,\n",
       " 4.201667319464616,\n",
       " 4.371320391535724,\n",
       " 4.093568851868054]"
      ]
     },
     "execution_count": 26,
     "metadata": {},
     "output_type": "execute_result"
    }
   ],
   "source": [
    "list_new"
   ]
  },
  {
   "cell_type": "code",
   "execution_count": 30,
   "metadata": {},
   "outputs": [],
   "source": [
    "rev = np.load('review_rating_dict.npy',allow_pickle=True)[()]"
   ]
  },
  {
   "cell_type": "code",
   "execution_count": 31,
   "metadata": {},
   "outputs": [
    {
     "name": "stdout",
     "output_type": "stream",
     "text": [
      "4.296695821185617\n"
     ]
    }
   ],
   "source": [
    "x=0\n",
    "y=0\n",
    "for i in rev.keys():\n",
    "    x=x+rev[i]\n",
    "    y=y+1\n",
    "print(x/y)"
   ]
  },
  {
   "cell_type": "code",
   "execution_count": null,
   "metadata": {},
   "outputs": [],
   "source": [
    "\n",
    "    "
   ]
  }
 ],
 "metadata": {
  "kernelspec": {
   "display_name": "Python 3",
   "language": "python",
   "name": "python3"
  },
  "language_info": {
   "codemirror_mode": {
    "name": "ipython",
    "version": 3
   },
   "file_extension": ".py",
   "mimetype": "text/x-python",
   "name": "python",
   "nbconvert_exporter": "python",
   "pygments_lexer": "ipython3",
   "version": "3.6.13"
  }
 },
 "nbformat": 4,
 "nbformat_minor": 4
}
